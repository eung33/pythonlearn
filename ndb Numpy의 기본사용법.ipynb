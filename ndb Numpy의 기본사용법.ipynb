{
  "nbformat": 4,
  "nbformat_minor": 0,
  "metadata": {
    "colab": {
      "name": "Untitled0.ipynb",
      "provenance": [],
      "authorship_tag": "ABX9TyOoyqkNZjxTh61roCczwmyM",
      "include_colab_link": true
    },
    "kernelspec": {
      "name": "python3",
      "display_name": "Python 3"
    },
    "language_info": {
      "name": "python"
    }
  },
  "cells": [
    {
      "cell_type": "markdown",
      "metadata": {
        "id": "view-in-github",
        "colab_type": "text"
      },
      "source": [
        "<a href=\"https://colab.research.google.com/github/eung33/pythonlearn/blob/master/ndb%20Numpy%EC%9D%98%20%EA%B8%B0%EB%B3%B8%EC%82%AC%EC%9A%A9%EB%B2%95.ipynb\" target=\"_parent\"><img src=\"https://colab.research.google.com/assets/colab-badge.svg\" alt=\"Open In Colab\"/></a>"
      ]
    },
    {
      "cell_type": "code",
      "metadata": {
        "colab": {
          "base_uri": "https://localhost:8080/"
        },
        "id": "HvoMt2JqKJ4_",
        "outputId": "7c0bc8a0-99ba-4cd6-d73d-0eec73e0d861"
      },
      "source": [
        "import numpy as np\n",
        "\n",
        "array = np.array([1,2,3])\n",
        "print(array.size)\n",
        "print(array.dtype)\n",
        "print(array[0])"
      ],
      "execution_count": 3,
      "outputs": [
        {
          "output_type": "stream",
          "text": [
            "3\n",
            "int64\n",
            "1\n"
          ],
          "name": "stdout"
        }
      ]
    }
  ]
}